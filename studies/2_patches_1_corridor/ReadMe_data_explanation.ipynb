{
 "cells": [
  {
   "attachments": {},
   "cell_type": "markdown",
   "metadata": {},
   "source": [
    "### Data and parameter choices explained\n",
    "Looking at SR 101 in the Phoenix area. This is a 62 miles beltway connecting bedroom communities in the Phoenix metro area. The most congested portion is between Exit 53 Broadway and Apache Blvd (128,692 cars / 0.19 miles, one direction).\n",
    "\n",
    "Some data sources \n",
    "- https://azdot.gov/planning/data-and-information/traffic-monitoring\n",
    "- https://azdot.gov/sites/default/files/2025-06/2024-AADT-PUBLICATION_StateRoutes.pdf\n",
    "- Data dictionary: https://azdot.gov/sites/default/files/2019/08/data-dictionary.pdf \n",
    "- External assessment of busyness: https://www.access-insurance.com/traffic-patterns-phoenix-arizona\n",
    "- Project description: https://planningtools.transportation.org/290/view-case-study.html?case_id=57 "
   ]
  },
  {
   "attachments": {},
   "cell_type": "markdown",
   "metadata": {},
   "source": [
    "Consider I-17 (part of the route connecting Phoenix and Flagstaff)\n",
    "- Consider segments 17-6 through 17-12 (total length of 77 miles)\n",
    "- A lane is 12 feet wide. All segments have 4 lanes except for 17-7 which has 5 lanes (length of 9 miles)\n",
    "- Most of these road segments are rural in nature\n",
    "\n",
    "Here is the main data of interest:\n",
    "\n",
    "Segment: Length || # Lanes || Weighted Avg Speed Limit || AADT (2019) || Daily Capacity\n",
    "- 17-6: 16mi (25.74944 km) || 4 || 75 || 28,900 || 69,309\n",
    "- 17-7: 9mi (14.48406 km) || 5 || 65 || 33,600 || 70,445\n",
    "- 17-8: 11mi (17.70274 km) || 4 || 75 || 28,500 || 75,721\n",
    "- 17-9: 8mi (12.87472 km) || 4 || 75 || 21,600 || 55,092\n",
    "- 17-10: 9mi (14.48406 km) || 4 || 75 || 18,200 || 56,356\n",
    "- 17-11: 7mi (11.26538 km) || 4 || 75 || 22,200 || 69,309\n",
    "- 17-12: 17mi (27.35878 km) || 4 || 71 || 26,800 || 79,947\n",
    "\n",
    "I assume AADT and Daily Capacity are for both directions?\n",
    "\n",
    "So what if we smooth this over? The weighted average\n",
    "\n",
    "Source: https://azdot.gov/sites/default/files/media/2022/10/I-17_Final_Report_w_Appendices_06-30-22.pdf"
   ]
  },
  {
   "cell_type": "code",
   "execution_count": 2,
   "metadata": {},
   "outputs": [],
   "source": [
    "import pandas as pd\n",
    "import numpy as np"
   ]
  },
  {
   "cell_type": "code",
   "execution_count": 10,
   "metadata": {},
   "outputs": [
    {
     "data": {
      "text/html": [
       "<div>\n",
       "<style scoped>\n",
       "    .dataframe tbody tr th:only-of-type {\n",
       "        vertical-align: middle;\n",
       "    }\n",
       "\n",
       "    .dataframe tbody tr th {\n",
       "        vertical-align: top;\n",
       "    }\n",
       "\n",
       "    .dataframe thead th {\n",
       "        text-align: right;\n",
       "    }\n",
       "</style>\n",
       "<table border=\"1\" class=\"dataframe\">\n",
       "  <thead>\n",
       "    <tr style=\"text-align: right;\">\n",
       "      <th></th>\n",
       "      <th>length (mi)</th>\n",
       "      <th>length (km)</th>\n",
       "      <th>lanes</th>\n",
       "      <th>wt avg speed limit (mph)</th>\n",
       "      <th>wt avg speed limit (kmh)</th>\n",
       "      <th>aadt</th>\n",
       "      <th>daily capacity</th>\n",
       "      <th>hourly capacity</th>\n",
       "      <th>capacity per km</th>\n",
       "    </tr>\n",
       "    <tr>\n",
       "      <th>segment</th>\n",
       "      <th></th>\n",
       "      <th></th>\n",
       "      <th></th>\n",
       "      <th></th>\n",
       "      <th></th>\n",
       "      <th></th>\n",
       "      <th></th>\n",
       "      <th></th>\n",
       "      <th></th>\n",
       "    </tr>\n",
       "  </thead>\n",
       "  <tbody>\n",
       "    <tr>\n",
       "      <th>17-6</th>\n",
       "      <td>16</td>\n",
       "      <td>25.74944</td>\n",
       "      <td>4</td>\n",
       "      <td>75</td>\n",
       "      <td>120.70050</td>\n",
       "      <td>28900</td>\n",
       "      <td>69309</td>\n",
       "      <td>2887.875000</td>\n",
       "      <td>23.925957</td>\n",
       "    </tr>\n",
       "    <tr>\n",
       "      <th>17-7</th>\n",
       "      <td>9</td>\n",
       "      <td>14.48406</td>\n",
       "      <td>5</td>\n",
       "      <td>65</td>\n",
       "      <td>104.60710</td>\n",
       "      <td>33600</td>\n",
       "      <td>70445</td>\n",
       "      <td>2935.208333</td>\n",
       "      <td>28.059361</td>\n",
       "    </tr>\n",
       "    <tr>\n",
       "      <th>17-8</th>\n",
       "      <td>11</td>\n",
       "      <td>17.70274</td>\n",
       "      <td>4</td>\n",
       "      <td>75</td>\n",
       "      <td>120.70050</td>\n",
       "      <td>28500</td>\n",
       "      <td>75721</td>\n",
       "      <td>3155.041667</td>\n",
       "      <td>26.139425</td>\n",
       "    </tr>\n",
       "    <tr>\n",
       "      <th>17-9</th>\n",
       "      <td>8</td>\n",
       "      <td>12.87472</td>\n",
       "      <td>4</td>\n",
       "      <td>75</td>\n",
       "      <td>120.70050</td>\n",
       "      <td>21600</td>\n",
       "      <td>55092</td>\n",
       "      <td>2295.500000</td>\n",
       "      <td>19.018148</td>\n",
       "    </tr>\n",
       "    <tr>\n",
       "      <th>17-10</th>\n",
       "      <td>9</td>\n",
       "      <td>14.48406</td>\n",
       "      <td>4</td>\n",
       "      <td>75</td>\n",
       "      <td>120.70050</td>\n",
       "      <td>18200</td>\n",
       "      <td>56356</td>\n",
       "      <td>2348.166667</td>\n",
       "      <td>19.454490</td>\n",
       "    </tr>\n",
       "    <tr>\n",
       "      <th>17-11</th>\n",
       "      <td>7</td>\n",
       "      <td>11.26538</td>\n",
       "      <td>4</td>\n",
       "      <td>75</td>\n",
       "      <td>120.70050</td>\n",
       "      <td>22200</td>\n",
       "      <td>69309</td>\n",
       "      <td>2887.875000</td>\n",
       "      <td>23.925957</td>\n",
       "    </tr>\n",
       "    <tr>\n",
       "      <th>17-12</th>\n",
       "      <td>17</td>\n",
       "      <td>27.35878</td>\n",
       "      <td>4</td>\n",
       "      <td>71</td>\n",
       "      <td>114.26314</td>\n",
       "      <td>26800</td>\n",
       "      <td>79947</td>\n",
       "      <td>3331.125000</td>\n",
       "      <td>29.153102</td>\n",
       "    </tr>\n",
       "  </tbody>\n",
       "</table>\n",
       "</div>"
      ],
      "text/plain": [
       "         length (mi)  length (km)  lanes  wt avg speed limit (mph)  \\\n",
       "segment                                                              \n",
       "17-6              16     25.74944      4                        75   \n",
       "17-7               9     14.48406      5                        65   \n",
       "17-8              11     17.70274      4                        75   \n",
       "17-9               8     12.87472      4                        75   \n",
       "17-10              9     14.48406      4                        75   \n",
       "17-11              7     11.26538      4                        75   \n",
       "17-12             17     27.35878      4                        71   \n",
       "\n",
       "         wt avg speed limit (kmh)   aadt  daily capacity  hourly capacity  \\\n",
       "segment                                                                     \n",
       "17-6                    120.70050  28900           69309      2887.875000   \n",
       "17-7                    104.60710  33600           70445      2935.208333   \n",
       "17-8                    120.70050  28500           75721      3155.041667   \n",
       "17-9                    120.70050  21600           55092      2295.500000   \n",
       "17-10                   120.70050  18200           56356      2348.166667   \n",
       "17-11                   120.70050  22200           69309      2887.875000   \n",
       "17-12                   114.26314  26800           79947      3331.125000   \n",
       "\n",
       "         capacity per km  \n",
       "segment                   \n",
       "17-6           23.925957  \n",
       "17-7           28.059361  \n",
       "17-8           26.139425  \n",
       "17-9           19.018148  \n",
       "17-10          19.454490  \n",
       "17-11          23.925957  \n",
       "17-12          29.153102  "
      ]
     },
     "execution_count": 10,
     "metadata": {},
     "output_type": "execute_result"
    }
   ],
   "source": [
    "segments = [\"17-6\", \"17-7\", \"17-8\", \"17-9\", \"17-10\", \"17-11\", \"17-12\"]\n",
    "lengths_mi = [16, 9, 11, 8, 9, 7, 17] # in miles\n",
    "lengths_km = np.array(lengths_mi) * 1.60934\n",
    "lanes = [4, 5, 4, 4, 4, 4, 4] # each lane is 12 feet wide\n",
    "wt_avg_speed_limit_mph = [75, 65, 75, 75, 75, 75, 71]\n",
    "wt_avg_speed_limit_kmh = np.array(wt_avg_speed_limit_mph) * 1.60934\n",
    "aadt = [28900, 33600, 28500, 21600, 18200, 22200, 26800]\n",
    "daily_cap = [69309, 70445, 75721, 55092, 56356, 69309, 79947]\n",
    "data_dict = {\"segment\": segments, \"length (mi)\": lengths_mi, \"length (km)\": lengths_km, \"lanes\": lanes, \"wt avg speed limit (mph)\": wt_avg_speed_limit_mph, \"wt avg speed limit (kmh)\": wt_avg_speed_limit_kmh, \"aadt\": aadt, \"daily capacity\": daily_cap}\n",
    "data = pd.DataFrame(data_dict)\n",
    "data.set_index(\"segment\", inplace = True, drop = True)\n",
    "data[\"hourly capacity\"] = data[\"daily capacity\"] / 24\n",
    "data[\"capacity per km\"] = data[\"hourly capacity\"] / data[\"wt avg speed limit (kmh)\"]\n",
    "data"
   ]
  },
  {
   "attachments": {},
   "cell_type": "markdown",
   "metadata": {},
   "source": [
    "What if this was just a single stretch of 77 miles (123.9 km) with the same characteristics everywhere?"
   ]
  },
  {
   "cell_type": "code",
   "execution_count": 13,
   "metadata": {},
   "outputs": [
    {
     "name": "stdout",
     "output_type": "stream",
     "text": [
      "Total length (km): 123.91917999999998\n",
      "# Lanes (weighted average): 4.116883116883117\n",
      "Speed limit (weighted average): 117.39821792207793\n",
      "AADT (weighted average): 26310.389610389615\n",
      "Daily capacity (weighted average):  69715.35064935066\n",
      "Hourly capacity (weighted average):  2904.806277056277\n",
      "Cars / km (weighted average):  24.84679570325913\n"
     ]
    }
   ],
   "source": [
    "# Total length (km)\n",
    "total_length_km = sum(data[\"length (km)\"])\n",
    "print(\"Total length (km):\", total_length_km)\n",
    "\n",
    "# Weighted average number of lanes\n",
    "wt_avg_lanes = sum(data[\"length (km)\"] * data[\"lanes\"]) / sum(data[\"length (km)\"])\n",
    "print(\"# Lanes (weighted average):\", wt_avg_lanes)\n",
    "\n",
    "# Weighted average speed limit\n",
    "wt_avg_speed_limit_kmh = sum(data[\"length (km)\"] * data[\"wt avg speed limit (kmh)\"]) / sum(data[\"length (km)\"])\n",
    "print(\"Speed limit (weighted average):\", wt_avg_speed_limit_kmh)\n",
    "\n",
    "# Weighted average aadt\n",
    "wt_avg_speed_limit_kmh = sum(data[\"length (km)\"] * data[\"aadt\"]) / sum(data[\"length (km)\"])\n",
    "print(\"AADT (weighted average):\", wt_avg_speed_limit_kmh)\n",
    "\n",
    "# Weighted average daily capacity\n",
    "wt_avg_cap = sum(data[\"length (km)\"] * data[\"daily capacity\"]) / sum(data[\"length (km)\"])\n",
    "print(\"Daily capacity (weighted average): \", wt_avg_cap)\n",
    "wt_avg_cap_hrly = sum(data[\"length (km)\"] * data[\"hourly capacity\"]) / sum(data[\"length (km)\"])\n",
    "print(\"Hourly capacity (weighted average): \", wt_avg_cap_hrly)\n",
    "\n",
    "# Weighted average capacity / km\n",
    "wt_avg_cap_km = sum(data[\"length (km)\"] * data[\"capacity per km\"]) / sum(data[\"length (km)\"])\n",
    "print(\"Cars / km (weighted average): \", wt_avg_cap_km)\n",
    "\n",
    "# Suppose those cars are traveling at the (weighted avg) posted speed limit?"
   ]
  },
  {
   "cell_type": "code",
   "execution_count": 6,
   "metadata": {},
   "outputs": [
    {
     "data": {
      "text/plain": [
       "160.11074045734216"
      ]
     },
     "execution_count": 6,
     "metadata": {},
     "output_type": "execute_result"
    }
   ],
   "source": [
    "sum(data[\"hourly capacity\"]) / sum(data[\"length (km)\"])"
   ]
  },
  {
   "cell_type": "code",
   "execution_count": 25,
   "metadata": {},
   "outputs": [
    {
     "data": {
      "text/plain": [
       "69715.35064935064"
      ]
     },
     "execution_count": 25,
     "metadata": {},
     "output_type": "execute_result"
    }
   ],
   "source": [
    "((16*69309) + (9*70445) + (11*75721) + (8*55092) + (9*56356) + (7*69309) + (17*79947)) / 77"
   ]
  },
  {
   "cell_type": "code",
   "execution_count": 40,
   "metadata": {},
   "outputs": [
    {
     "data": {
      "text/plain": [
       "23.444646220069945"
      ]
     },
     "execution_count": 40,
     "metadata": {},
     "output_type": "execute_result"
    }
   ],
   "source": [
    "(69715/123.9)/24\n"
   ]
  },
  {
   "cell_type": "code",
   "execution_count": 41,
   "metadata": {},
   "outputs": [
    {
     "data": {
      "text/plain": [
       "24.74268881317433"
      ]
     },
     "execution_count": 41,
     "metadata": {},
     "output_type": "execute_result"
    }
   ],
   "source": [
    "69715 /(24*117.4)"
   ]
  },
  {
   "cell_type": "code",
   "execution_count": null,
   "metadata": {},
   "outputs": [],
   "source": []
  }
 ],
 "metadata": {
  "kernelspec": {
   "display_name": "geospatial",
   "language": "python",
   "name": "python3"
  },
  "language_info": {
   "codemirror_mode": {
    "name": "ipython",
    "version": 3
   },
   "file_extension": ".py",
   "mimetype": "text/x-python",
   "name": "python",
   "nbconvert_exporter": "python",
   "pygments_lexer": "ipython3",
   "version": "3.9.16"
  },
  "orig_nbformat": 4,
  "vscode": {
   "interpreter": {
    "hash": "cad3d9cd147b3f789da22b2446fd172b3e4da2ac420c16bba80a751f880a92c7"
   }
  }
 },
 "nbformat": 4,
 "nbformat_minor": 2
}
