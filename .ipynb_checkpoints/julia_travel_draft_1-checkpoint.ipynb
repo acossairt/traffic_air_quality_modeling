{
 "cells": [
  {
   "attachments": {},
   "cell_type": "markdown",
   "metadata": {},
   "source": [
    "### Draft 1 - Travel Model\n",
    "10/22/2024"
   ]
  },
  {
   "cell_type": "code",
   "execution_count": 3,
   "metadata": {},
   "outputs": [],
   "source": [
    "# load all required libraries (aka packages)\n",
    "using Plots\n",
    "using LinearAlgebra\n",
    "using LaTeXStrings\n",
    "using Roots"
   ]
  },
  {
   "cell_type": "code",
   "execution_count": 4,
   "metadata": {},
   "outputs": [
    {
     "ename": "LoadError",
     "evalue": "invalid method definition in Main: function Base.\\ must be explicitly imported to be extended",
     "output_type": "error",
     "traceback": [
      "invalid method definition in Main: function Base.\\ must be explicitly imported to be extended",
      "",
      "Stacktrace:",
      " [1] top-level scope",
      "   @ none:0",
      " [2] top-level scope",
      "   @ In[4]:5"
     ]
    }
   ],
   "source": [
    "# Define parameters\n",
    "alpha1 = 0.7; alpha2 = 0.9\n",
    "\n",
    "# Define initial conditions\n",
    "P\\_1 = 0.95"
   ]
  },
  {
   "cell_type": "code",
   "execution_count": null,
   "metadata": {},
   "outputs": [],
   "source": []
  },
  {
   "attachments": {},
   "cell_type": "markdown",
   "metadata": {},
   "source": [
    "P\\_1"
   ]
  }
 ],
 "metadata": {
  "kernelspec": {
   "display_name": "Julia 1.10.5",
   "language": "julia",
   "name": "julia-1.10"
  },
  "language_info": {
   "file_extension": ".jl",
   "mimetype": "application/julia",
   "name": "julia",
   "version": "1.10.5"
  },
  "orig_nbformat": 4
 },
 "nbformat": 4,
 "nbformat_minor": 2
}
