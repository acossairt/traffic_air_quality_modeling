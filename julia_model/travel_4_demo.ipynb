{
 "cells": [
  {
   "attachments": {},
   "cell_type": "markdown",
   "id": "ebeee1df-8480-4a69-84b2-f88d6478faec",
   "metadata": {},
   "source": [
    "## Simplest version of the transportation model\n",
    "This is a demo for a transportation system with 2 patches and 2 connecting corridors, which may have different or identical capacities (\\beta1 and \\beta2).\n",
    "\n",
    "Next steps\n",
    "- Convert emissions/distance into emissions/time (as a function of avg speed, which is a function of congestion) - fully endogenous model\n",
    "    - MOSTLY DONE - have emission rate over time, need to integrate to get total emissions\n",
    "- Try to model U-shaped curve with something like a (x-40)**4 + 1...\n",
    "    - NOT STARTED\n",
    "- replace Greenshield's model with arctan function\n",
    "    - DONE\n",
    "- rewrite functions using matrix notation\n",
    "    - IN PROGRESS\n",
    "\n",
    "What's missing compared to XPPAUT travel_4.ode?\n",
    "- power function (for tapering off near 0)\n",
    "- urban sponge"
   ]
  },
  {
   "cell_type": "code",
   "execution_count": 1,
   "id": "898d3f46",
   "metadata": {},
   "outputs": [],
   "source": [
    "using Plots\n",
    "using LinearAlgebra\n",
    "using LaTeXStrings\n",
    "using Roots\n",
    "using DifferentialEquations\n",
    "using Interpolations\n",
    "using RecursiveArrayTools\n",
    "using QuadGK\n",
    "using Printf"
   ]
  },
  {
   "attachments": {},
   "cell_type": "markdown",
   "id": "3b52fd32",
   "metadata": {},
   "source": [
    "## Simple demo\n",
    "2 patches, 2 corridors connecting each patch to its neighbor. All represented explicitly (no matrix notation)"
   ]
  },
  {
   "attachments": {},
   "cell_type": "markdown",
   "id": "09e95a8d",
   "metadata": {},
   "source": [
    "Function for calculating populations N (of each patch and corridor) at next time step. Demo case for two patches with two connecting corridors. Final version will use matrix notation."
   ]
  },
  {
   "cell_type": "code",
   "execution_count": 2,
   "id": "473bbfd9-e982-45a6-b69c-7a8b498302d1",
   "metadata": {},
   "outputs": [
    {
     "data": {
      "text/plain": [
       "traffic_flow_demo! (generic function with 1 method)"
      ]
     },
     "execution_count": 2,
     "metadata": {},
     "output_type": "execute_result"
    }
   ],
   "source": [
    "function traffic_flow_demo!(dN, N, p, t)\n",
    "    #=\n",
    "        Returns (change in place)\n",
    "            - dN: array-like, size (6,)\n",
    "                    population values at next time step\n",
    "        Arguments\n",
    "            - dN: array-like, size (6,)\n",
    "                    population values at next time step\n",
    "            - N: array-like, size (6,)\n",
    "                    population values at current time step\n",
    "                    N = [P¹, P², C¹₁₂, C¹₂₁, C²₁₂, C²₂₁]\n",
    "            - p: array-like, size (6,)\n",
    "                    parameters\n",
    "                    p = [α₁, α₂, β₁, β₂, p1_out, p2_out]\n",
    "    =#\n",
    "    P¹ = N[1]      # population in patch 1\n",
    "    P² = N[2]      # population in patch 2\n",
    "    C¹₁₂ = N[3]    # population in corridor 1, lane from patch 1 to patch 2\n",
    "    C¹₂₁ = N[4]    # population in corridor 1, lane from patch 2 to patch 1\n",
    "    C²₁₂ = N[5]    # population in corridor 2, lane from patch 1 to patch 2\n",
    "    C²₂₁ = N[6]    # population in corridor 2, lane from patch 2 to patch 1\n",
    "\n",
    "    α₁ = p[1]       # tolerance for congestion, originators in patch 1\n",
    "    α₂ = p[2]       # tolerance for congestion, originators in patch 2\n",
    "    β₁ = p[3]       # inverse road capacity, corridor 1\n",
    "    β₂ = p[4]       # inverse road capacity, corridor 2\n",
    "    p1_out = p[5]   # overall demand for leaving P1\n",
    "    p2_out = p[6]   # overall demand for leaving P2\n",
    "\n",
    "    # Fluxes\n",
    "    F₁ᶜ¹ = p1_out * exp(-β₁ * α₁ * C¹₁₂) * P¹   # flux from patch 1 into corridor 1 (implicitly heading towards patch 2)\n",
    "    F₂ᶜ¹ = p2_out * exp(-β₁ * α₂ * C¹₂₁) * P²   # flux from patch 2 into corridor 1 (implicitly heading towards patch 1)\n",
    "    F₁ᶜ² = p1_out * exp(-β₂ * α₁ * C²₁₂) * P¹   # flux from patch 1 into corridor 2 (implicitly heading towards patch 2)\n",
    "    F₂ᶜ² = p2_out * exp(-β₂ * α₂ * C²₂₁) * P²   # flux from patch 2 into corridor 2 (implicitly heading towards patch 1)\n",
    "\n",
    "    Fc₁¹ = exp(-β₁ * C¹₂₁) * C¹₂₁     # flux from corridor 1 into patch 1 (implicitly lane from p2 to p1)\n",
    "    Fc₁² = exp(-β₁ * C¹₁₂) * C¹₁₂     # flux from corridor 1 into patch 2 (implicitly lane from p1 to p2)\n",
    "    Fc₂¹ = exp(-β₂ * C²₂₁) * C²₂₁     # flux from corridor 2 into patch 1 (implicitly lane from p2 to p1)\n",
    "    Fc₂² = exp(-β₂ * C²₁₂) * C²₁₂     # flux from corridor 2 into patch 2 (implicitly lane from p1 to p2)\n",
    "    \n",
    "    # Net changes to state variables\n",
    "    dN[1] = Fc₁¹ + Fc₂¹ - F₁ᶜ¹ - F₁ᶜ² # change in population Patch 1\n",
    "    dN[2] = Fc₁² + Fc₂² - F₂ᶜ¹ - F₂ᶜ² # change in population Patch 2\n",
    "    dN[3] = F₁ᶜ¹ - Fc₁² # change in population Corridor 1 lane from p1 to p2\n",
    "    dN[4] = F₂ᶜ¹ - Fc₁¹ # change in population Corridor 1 lane from p2 to p1\n",
    "    dN[5] = F₁ᶜ² - Fc₂² # change in population Corridor 2 lane from p1 to p2\n",
    "    dN[6] = F₂ᶜ² - Fc₂¹ # change in population Corridor 2 lane from p2 to p1\n",
    "end\n",
    "# Where to put conservation law??"
   ]
  },
  {
   "attachments": {},
   "cell_type": "markdown",
   "id": "152414c8",
   "metadata": {},
   "source": [
    "Run diff eqs for 100 time steps, with initial conditions P¹=0, P²=C¹₁₂=C¹₂₁=C²₁₂=C²₂₁=0, and parameters given below. Plot outputs for each population."
   ]
  },
  {
   "cell_type": "code",
   "execution_count": null,
   "id": "ae512712",
   "metadata": {},
   "outputs": [],
   "source": [
    "# Choose parameters\n",
    "α₁ = 1\n",
    "α₂ = 1\n",
    "β₁ = 15\n",
    "β₂ = 15\n",
    "p1_out = 1\n",
    "p2_out = 0\n",
    "p = [α₁, α₂, β₁, β₂, p1_out, p2_out]\n",
    "\n",
    "# Solve diff eq\n",
    "N0 = [1; 0.; 0; 0; 0; 0]                              # set initial conditions: [P¹, P², C¹₁₂, C¹₂₁, C²₁₂, C²₂₁]\n",
    "tspan = (0.0, 100.0)                                  # set time span\n",
    "prob = ODEProblem(traffic_flow_demo!, N0, tspan, p)   # create problem (system of diff eqs)\n",
    "sol = solve(prob)                                     # solve problem\n",
    "\n",
    "# Plot each population over time \n",
    "plot(sol, idxs = (0,1), xlabel=\"time\", ylabel=\"population\", label=\"patch 1\")\n",
    "plot!(sol, idxs = (0,2), xlabel=\"time\", ylabel=\"population\", label=\"patch 2\")\n",
    "plot!(sol, idxs = (0,3), xlabel=\"time\", ylabel=\"population\", label=\"C1 (1 to 2), β₁=$β₁\")\n",
    "plot!(sol, idxs = (0,5), xlabel=\"time\", ylabel=\"population\", label=\"C2 (1 to 2), β₂=$β₂\")\n",
    "plot!(sol, idxs = (0,4), xlabel=\"time\", ylabel=\"population\", label=\"C1 (2 to 1), β₁=$β₁\")\n",
    "plt = plot!(sol, idxs = (0,6), xlabel=\"time\", ylabel=\"population\", label=\"C2 (2 to 1), β₂=$β₂\")\n",
    "savefig(plt, \"julia_plots/traffic_flows_β₁_$β₁\" * \"_β₂_$β₂\" * \".png\")\n",
    "display(plt)\n",
    "\n",
    "# Plot phase space\n",
    "#plot(sol, idxs = (1,2), xlabel=\"P1\", ylabel=\"P2\")"
   ]
  },
  {
   "attachments": {},
   "cell_type": "markdown",
   "id": "1b6f04d6",
   "metadata": {},
   "source": [
    "### Functions to convert traffic densities to average speeds"
   ]
  },
  {
   "cell_type": "code",
   "execution_count": null,
   "id": "831d0a0d",
   "metadata": {},
   "outputs": [],
   "source": [
    "# Calculate speeds from densities\n",
    "v_f = 90             # free-flow velocity, 90 km/hr, same for C1 and C2\n",
    "C1_jam = 1 / β₁      # jam density for C1 (causes avg speed = 0)\n",
    "C2_jam = 1 / β₂      # jam density for C2 (causes avg speed = 0)\n",
    "C1_half = C1_jam / 2 # threshold density for C1 (causes avg speed = 1/2 free-flow speed)\n",
    "C2_half = C2_jam / 2 # threshold density for C2 (causes avg speed = 1/2 free-flow speed)\n",
    "\n",
    "function calc_space_mean_speed_alternative(v_f, C, C_half; a=1)\n",
    "    #=\n",
    "        Returns:\n",
    "            - u_s: float \n",
    "                average speed for vehicles in a given traffic flow. If negative, return 0.\n",
    "        Arguments:\n",
    "            - v_f: float\n",
    "                free-flow velocity\n",
    "            - C: float\n",
    "                vehicle density (in corridor C)\n",
    "            - C_half:\n",
    "                threshold value of vehicle density, where u_s = 1/2 * v_f\n",
    "    =#\n",
    "    u_s = - (v_f / pi) * atan(a*(C - C_half)) + (v_f / 2)\n",
    "    return u_s > 0 ? u_s : 0\n",
    "end\n",
    "\n",
    "# NOT USED - Greenshield's model\n",
    "function calc_space_mean_speed_greenshields(v_f, k, k_jam)\n",
    "    u_s = v_f - (k/k_jam)*v_f\n",
    "    return u_s > 0 ? u_s : 0\n",
    "end\n"
   ]
  },
  {
   "attachments": {},
   "cell_type": "markdown",
   "id": "b314582b",
   "metadata": {},
   "source": [
    "### Functions to convert average speeds to emission rates"
   ]
  },
  {
   "cell_type": "code",
   "execution_count": null,
   "id": "59f31b0c",
   "metadata": {},
   "outputs": [],
   "source": [
    "# Make a U-shaped curve using data from the California paper\n",
    "start = 5 \n",
    "my_step = 5\n",
    "stop = 100\n",
    "mph_to_kmh = 1.60934\n",
    "speed_arr = collect(start:my_step:stop) * mph_to_kmh # convert mph to kmh\n",
    "emissions_arr = [1200, 950, 700, 500, 425, 350, 325, 310, 309, 308, 308, 308, 309, 320, 330, 350, 375, 400, 450, 550] * mph_to_kmh\n",
    "plot(speed_arr, emissions_arr)\n",
    "\n",
    "# Interpolate: emissions as a function of speed\n",
    "interp_fn = linear_interpolation(speed_arr, emissions_arr, extrapolation_bc=Line())\n",
    "\n",
    "# Calculate emissions from a given array of speeds\n",
    "function calc_emissions_from_speed(vehicle_pop_arr, my_speed_arr, interp_fn)\n",
    "    #=\n",
    "        Returns:\n",
    "            - emissions: array (dim 1) \n",
    "                emission rates (g/km) for whole traffic volume (all vehicles) at each\n",
    "                time step\n",
    "        Arguments:\n",
    "            - vehicle_pop_arr: array (dim 1) of vehicle population densities at \n",
    "              each time step\n",
    "            - my_speed_arr: array (dim 1) of avg vehicle speeds at each time step\n",
    "            - interp_fn: function (interpolated) relating speeds to emissions\n",
    "    =#\n",
    "    interpolated_emission_per_vehicle = interp_fn(my_speed_arr)\n",
    "    emissions = interpolated_emission_per_vehicle .* my_speed_arr .* vehicle_pop_arr\n",
    "    return emissions\n",
    "end\n",
    "\n",
    "# NOT USED - Calculate flow volume\n",
    "function calc_flow(vehicle_pop_arr, v_f, k_jam)\n",
    "    q = v_f .* vehicle_pop_arr - (v_f / k_jam) .* vehicle_pop_arr.^2\n",
    "    return q\n",
    "end"
   ]
  },
  {
   "attachments": {},
   "cell_type": "markdown",
   "id": "9c51263c",
   "metadata": {},
   "source": [
    "### Functions to convert emissions rates to total emissions"
   ]
  },
  {
   "cell_type": "code",
   "execution_count": null,
   "id": "b1e978fa",
   "metadata": {},
   "outputs": [],
   "source": [
    "function integrate_emissions(x, y, a, b)\n",
    "    # Create an interpolation function over data points\n",
    "    interp_func = LinearInterpolation(x, y, extrapolation_bc=Line())\n",
    "\n",
    "    # Integrate the interpolated function from a to b\n",
    "    result, error = quadgk(interp_func, a, b)\n",
    "\n",
    "    return result, error\n",
    "end"
   ]
  },
  {
   "attachments": {},
   "cell_type": "markdown",
   "id": "59f260c6",
   "metadata": {},
   "source": [
    "### Calculate Expected Emissions for travel on C1 and C2"
   ]
  },
  {
   "cell_type": "code",
   "execution_count": null,
   "id": "1d4ab7b5",
   "metadata": {},
   "outputs": [],
   "source": [
    "# Calculate emission rates for C1\n",
    "pop_C1 = sol[3, :]\n",
    "time = sol.t\n",
    "C1_speeds = calc_space_mean_speed_alternative.(v_f, pop_C1, C1_half)\n",
    "C1_emissions = calc_emissions_from_speed(pop_C1, C1_speeds, interp_fn)\n",
    "C1_flow = calc_flow(pop_C1, v_f, C1_jam)\n",
    "\n",
    "# Same for C2\n",
    "pop_C2 = sol[5, :]\n",
    "time = sol.t\n",
    "C2_speeds = calc_space_mean_speed_alternative.(v_f, pop_C2, C2_half)\n",
    "C2_emissions = calc_emissions_from_speed(pop_C2, C2_speeds, interp_fn)\n",
    "C2_flow = calc_flow(pop_C2, v_f, C2_jam)\n",
    "\n",
    "# Total emissions\n",
    "C1_total_emissions = integrate_emissions(time, C1_emissions, 0.0, 100.0)[1] # [1] for value, [2] for error\n",
    "formatted_C1_em = @sprintf(\"%.3f\", C1_total_emissions)\n",
    "\n",
    "C2_total_emissions = integrate_emissions(time, C2_emissions, 0.0, 100.0)[1]\n",
    "formatted_C2_em = @sprintf(\"%.3f\", C2_total_emissions)\n",
    "\n",
    "Total_emissions = C1_total_emissions + C2_total_emissions\n",
    "formatted_T_em = @sprintf(\"%.3f\", Total_emissions)\n",
    "\n",
    "C1_fraction_emissions = 100 * C1_total_emissions / Total_emissions\n",
    "formatted_C1_fraction = @sprintf(\"%.2f\", C1_fraction_emissions)\n",
    "\n",
    "C2_fraction_emissions = 100 * C2_total_emissions / Total_emissions\n",
    "formatted_C2_fraction = @sprintf(\"%.2f\", C2_fraction_emissions)"
   ]
  },
  {
   "attachments": {},
   "cell_type": "markdown",
   "id": "dc20d4b8",
   "metadata": {},
   "source": [
    "Plot everything at once"
   ]
  },
  {
   "cell_type": "code",
   "execution_count": null,
   "id": "98176ad9",
   "metadata": {},
   "outputs": [],
   "source": [
    "# For annotations\n",
    "x_fraction = 0.1; y_fraction = 0.2\n",
    "\n",
    "# C1 plots\n",
    "plt1 = plot(sol, idxs=(0,3), xlabel=\"t\", ylabel=\"population\", label=\"C1\", title=\"population C1 (β₁ = $β₁)\")\n",
    "plt1 = plot!(plt1, [0,100], repeat([C1_jam], 2), label=\"C_jam\")\n",
    "plt1 = plot!(plt1, [0,100], repeat([C1_half], 2), label=\"C_half\")\n",
    "plt2 = plot(sol.t, C1_speeds, xlabel=\"t\", ylabel=\"v (km/h)\", label=\"v\", title=\"average speeds (assume v_f=90)\")\n",
    "plt3 = plot(sol.t, C1_emissions, xlabel=\"t\", ylabel=\"CO2 (G / hour)\", label=\"CO2\", title=\"average emissions rate\")\n",
    "\n",
    "# Annotate with total emissions\n",
    "xmin, xmax = xlims()\n",
    "ymin, ymax = ylims()\n",
    "x_position = xmin + x_fraction * (xmax - xmin)\n",
    "y_position = ymin + y_fraction * (ymax - ymin)\n",
    "plt3 = annotate!(x_position, y_position, text(\"C1 total emissions:\\n$formatted_C1_em\\n($formatted_C1_fraction%)\", :left, 10, :black))\n",
    "\n",
    "# Assemble C1 plot\n",
    "C1_plt = plot(plt1, plt2, plt3, layout = grid(3,1, heights=(1/3,1/3,1/3)), size=(600,600))\n",
    "\n",
    "# Optional - save C1 plot\n",
    "#savefig(plt, \"julia_plots/congestion_to_emissions_C1β₁_$β₁\" * \".png\")\n",
    "#display(plt)\n",
    "\n",
    "# C2 plots\n",
    "plt1 = plot(sol, idxs=(0,5), xlabel=\"t\", ylabel=\"population\", label=\"C2\", title=\"population C2 (β₂ = $β₂)\")\n",
    "plt1 = plot!(plt1, [0,100], repeat([C2_jam], 2), label=\"C_jam\")\n",
    "plt1 = plot!(plt1, [0,100], repeat([C2_half], 2), label=\"C_half\")\n",
    "plt2 = plot(sol.t, C2_speeds, xlabel=\"t\", ylabel=\"v (km/h)\", label=\"v\", title=\"average speeds (assume v_f=90)\")\n",
    "plt3 = plot(sol.t, C2_emissions, xlabel=\"t\", ylabel=\"CO2 (G / hour)\", label=\"CO2\", title=\"average emissions rate\")\n",
    "\n",
    "# Annotate with total emisssions\n",
    "xmin, xmax = xlims()\n",
    "ymin, ymax = ylims()\n",
    "x_position = xmin + x_fraction * (xmax - xmin)\n",
    "y_position = ymin + y_fraction * (ymax - ymin)\n",
    "plt3 = annotate!(x_position, y_position, text(\"C2 total emissions:\\n$formatted_C2_em\\n($formatted_C2_fraction%)\", :left, 10, :black))\n",
    "\n",
    "# Assemble C2 plot\n",
    "C2_plt = plot(plt1, plt2, plt3, layout = grid(3,1, heights=(1/3,1/3,1/3)), size=(600,600))\n",
    "\n",
    "# Optional - save C2 plot\n",
    "#savefig(plt, \"julia_plots/congestion_to_emissions_C2_β₂_$β₂\" * \".png\")\n",
    "#display(plt)\n",
    "\n",
    "# Combine plots\n",
    "plt = plot(C1_plt, C2_plt, layout = grid(1,2, widths=(1/2,1/2)), size=(1200, 600), plot_title=\"Total Emissions=$formatted_T_em\")\n",
    "#supertitle!(plt, title=\"Total Emissions=$formatted_T_em\")\n",
    "\n",
    "savefig(plt, \"julia_plots/congestion_to_emissions_C1_and_C2_β₁_$β₁\" * \"_β₂_$β₂\" * \".png\")\n",
    "display(plt)"
   ]
  }
 ],
 "metadata": {
  "kernelspec": {
   "display_name": "Julia 1.10.5",
   "language": "julia",
   "name": "julia-1.10"
  },
  "language_info": {
   "file_extension": ".jl",
   "mimetype": "application/julia",
   "name": "julia",
   "version": "1.10.5"
  }
 },
 "nbformat": 4,
 "nbformat_minor": 5
}
