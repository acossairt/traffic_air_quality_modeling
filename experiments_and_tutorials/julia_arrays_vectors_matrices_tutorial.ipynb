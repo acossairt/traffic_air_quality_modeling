{
 "cells": [
  {
   "attachments": {},
   "cell_type": "markdown",
   "metadata": {},
   "source": [
    "From: https://www.matecdev.com/posts/julia-tutorial-science-engineering.html#google_vignette\n",
    "\n",
    "Note that there is more array functionality in packages such as LinearAlgebra.jl, StaticArrays.jl, and SparseArrays.jl."
   ]
  },
  {
   "cell_type": "code",
   "execution_count": 1,
   "metadata": {},
   "outputs": [
    {
     "data": {
      "text/plain": [
       "4-element Vector{Any}:\n",
       "  \"Hello\"\n",
       " 1\n",
       " 2\n",
       " 3"
      ]
     },
     "execution_count": 1,
     "metadata": {},
     "output_type": "execute_result"
    }
   ],
   "source": [
    "# Direct input\n",
    "A = [1 2 3; 1 2 4; 2 2 2]     # 3×3 Matrix{Float64}\n",
    "A = [1 2 3;                   # 3×3 Matrix{Float64}\n",
    "     1 2 4;\n",
    "     2 2 2]     \n",
    "b1 = [4.0, 5, 6]              # 3-element Vector{Float64}\n",
    "b2 = [4.0; 5; 6]              # 3-element Vector{Float64}\n",
    "m1 = [4.0 5 6]                # 1×3 Matrix{Float64}\n",
    "A = [\"Hello\", 1, 2, 3]        # Vector of type Any"
   ]
  },
  {
   "attachments": {},
   "cell_type": "markdown",
   "metadata": {},
   "source": [
    "### Array comprehension vs. generators\n",
    "\n",
    "A very concise way to initialize and array is by resorting to so-called array comprehensions.\n",
    "The following code builds an array with the first 100,000 terms of a quadratic series, and then performs the sum.\n",
    "\n",
    "When using parenthesis instead of the square brackets, Julia will produce a slightly different object: a generator. Generators can be iterated to produce the required values when needed.\n",
    "As the underlying array isn’t allocated in memory in advance, the generator could have better performance than the array comprehension."
   ]
  },
  {
   "cell_type": "code",
   "execution_count": 2,
   "metadata": {},
   "outputs": [
    {
     "data": {
      "text/plain": [
       "1.6449240668982281"
      ]
     },
     "execution_count": 2,
     "metadata": {},
     "output_type": "execute_result"
    }
   ],
   "source": [
    "# Array comprehensions\n",
    "v = [1/n^2 for n=1:100000]\n",
    "x = sum(v)"
   ]
  },
  {
   "cell_type": "code",
   "execution_count": 3,
   "metadata": {},
   "outputs": [
    {
     "data": {
      "text/plain": [
       "1.6449240668982423"
      ]
     },
     "execution_count": 3,
     "metadata": {},
     "output_type": "execute_result"
    }
   ],
   "source": [
    "# Array generators\n",
    "gen = (1/n^2 for n=1:100000)\n",
    "x = sum(gen)"
   ]
  },
  {
   "attachments": {},
   "cell_type": "markdown",
   "metadata": {},
   "source": [
    "### Undefined arrays\n",
    "For performance reasons, it is wise to initialize arrays of a given type (and size), without specifying any values.  To do this, we can employ keywords such as Vector{T}, Matrix{T} or Array{T}, where T is a type (see, for example, Numeric Types in the documentation).\n",
    "\n",
    "The reason to declare undefined arrays is to be able to fill them later — for example, with the use of a for loop.\n",
    "\n",
    "What happens under the hood when we declare an undef array, is that a certain portion of memory gets reserved (or allocated) for this specific use. As the computer is not even filling that chunk of memory with zeros, we are saving some time."
   ]
  },
  {
   "cell_type": "code",
   "execution_count": 4,
   "metadata": {},
   "outputs": [
    {
     "data": {
      "text/plain": [
       "5-element Vector{Any}:\n",
       " #undef\n",
       " #undef\n",
       " #undef\n",
       " #undef\n",
       " #undef"
      ]
     },
     "execution_count": 4,
     "metadata": {},
     "output_type": "execute_result"
    }
   ],
   "source": [
    "n = 5\n",
    "A1 = Array{Float64}(undef,n,n)          # 5×5 Matrix{Float64}\n",
    "A2 = Matrix{Float64}(undef,n,n)         # 5×5 Matrix{Float64}\n",
    "\n",
    "V1 = Array{Float64}(undef,n)            # 5-element Vector{Float64}\n",
    "V2 = Vector{Float64}(undef,n)           # 5-element Vector{Float64}\n",
    "\n",
    "A = Array{String}(undef,n)\n",
    "A = Array{Any}(undef,n)"
   ]
  },
  {
   "attachments": {},
   "cell_type": "markdown",
   "metadata": {},
   "source": [
    "### Empty arrays\n",
    "Empty arrays can be a useful starting point when we are in a situation where it is hard or impossible to know which array sizes we need in advance. An empty array can be later grown dynamically, and filled with values. (see the “Dynamic Arrays” section below in this page).\n",
    "\n",
    "To initialize an empty array, it is perfectly valid to use n = 0 in the above expressions.\n",
    "\n",
    "\n",
    "To initialize an empty array, it is perfectly valid to use n = 0 in the above expressions. There is a shorthand for this expression: (see second line). A possible source of errors would be to confuse this array with an empty array of “Any” type, which is initialized as follows: (see third line). If we later fill this array dynamically with Float values, its type would remain fixed at “Any”, which could lead to bad performance — or even errors, if we plan on passing this array to a function which requires arrays of type Float, for example."
   ]
  },
  {
   "cell_type": "code",
   "execution_count": 5,
   "metadata": {},
   "outputs": [
    {
     "data": {
      "text/plain": [
       "Any[]"
      ]
     },
     "execution_count": 5,
     "metadata": {},
     "output_type": "execute_result"
    }
   ],
   "source": [
    "v = Array{Float64}(undef,0)     \n",
    "v = Float64[]                # shorthand for above expression\n",
    "v = []    # Same as Any[], and you can't change this type easily later (gotcha!)"
   ]
  },
  {
   "attachments": {},
   "cell_type": "markdown",
   "metadata": {},
   "source": [
    "### Special kinds of arrays\n",
    "See Documentation for lots of examples: https://docs.julialang.org/en/v1/manual/arrays/#Construction-and-Initialization"
   ]
  },
  {
   "cell_type": "code",
   "execution_count": 6,
   "metadata": {},
   "outputs": [
    {
     "data": {
      "text/plain": [
       "6×6 Matrix{Float64}:\n",
       " 0.99907   0.554585  0.671871  0.677795   0.901719  0.998623\n",
       " 0.134639  0.36978   0.463271  0.089742   0.256451  0.669525\n",
       " 0.22043   0.954448  0.19185   0.448509   0.715356  0.779611\n",
       " 0.354458  0.5013    0.679783  0.72332    0.587571  0.240012\n",
       " 0.620164  0.414974  0.230264  0.0867013  0.190878  0.98802\n",
       " 0.910155  0.172627  0.631615  0.678909   0.586183  0.875885"
      ]
     },
     "execution_count": 6,
     "metadata": {},
     "output_type": "execute_result"
    }
   ],
   "source": [
    "A = zeros(8,9)\n",
    "B = ones(8,9)\n",
    "C = rand(6,6)"
   ]
  },
  {
   "attachments": {},
   "cell_type": "markdown",
   "metadata": {},
   "source": [
    "In the case of the identity matrix, placing an integer right before a letter ‘I’ will do the job, but this requires the LinearAlgebra package:"
   ]
  },
  {
   "cell_type": "code",
   "execution_count": 7,
   "metadata": {},
   "outputs": [
    {
     "data": {
      "text/plain": [
       "2×2 Matrix{Float64}:\n",
       " 5.2298    0.912095\n",
       " 0.866389  5.36771"
      ]
     },
     "execution_count": 7,
     "metadata": {},
     "output_type": "execute_result"
    }
   ],
   "source": [
    "using LinearAlgebra\n",
    "M = 5I + rand(2,2)"
   ]
  },
  {
   "attachments": {},
   "cell_type": "markdown",
   "metadata": {},
   "source": [
    "### Applying a scalar function to an array and broadcasting the dot operator\n",
    "It often happens that we have a function which can be applied to a scalar number, but we want to apply it to an array. Of course, we could resort to a for loop to this element-wise function application. But that would be too much hassle.\n",
    "\n",
    "Fortunately, in Julia we can easily turn a function than accepts a scalar value, and apply it element-wise to an array. The way to do this is to employ a ‘dot’ after the function’s name.\n",
    "\n",
    "For example, let’s define a scalar function f, and apply it to an array."
   ]
  },
  {
   "cell_type": "code",
   "execution_count": 8,
   "metadata": {},
   "outputs": [
    {
     "data": {
      "text/plain": [
       "30-element Vector{Float64}:\n",
       "     -4.828671033653536e6\n",
       " -18039.263768983117\n",
       "   -610.7857528421777\n",
       "    -40.50500091388652\n",
       "      0.12239075156841928\n",
       "      3.0788623155395416\n",
       "      2.5165970179806223\n",
       "      1.8406756088311296\n",
       "      1.3594357907060943\n",
       "      1.0347659706787375\n",
       "      0.812285884726568\n",
       "      0.6550760528496817\n",
       "      0.5403678534183181\n",
       "      ⋮\n",
       "      0.23029553231945027\n",
       "      0.20638290794502417\n",
       "      0.1861052313390679\n",
       "      0.16874585207464307\n",
       "      0.15375911701431397\n",
       "      0.14072317776024484\n",
       "      0.12930739401638117\n",
       "      0.1192493881563927\n",
       "      0.11033861036842828\n",
       "      0.10240437795375669\n",
       "      0.09530704253783058\n",
       "      0.08893137900051265"
      ]
     },
     "execution_count": 8,
     "metadata": {},
     "output_type": "execute_result"
    }
   ],
   "source": [
    "f(x) = 3x^3/(1+x^2)\n",
    "x = [2π/n for n=1:30]\n",
    "y = f.(x)\n",
    "\n",
    "y = sin.(x) # dot operator is also needed for common arithmetic and trigonometric functions\n",
    "y = 2x.^2 + 3x.^5 - 2x.^8\n",
    "y = @. 2x^2 + 3x^5 - 2x^8   # We can also broadcast the dot operator with @"
   ]
  },
  {
   "attachments": {},
   "cell_type": "markdown",
   "metadata": {},
   "source": [
    "### Array indexing"
   ]
  },
  {
   "cell_type": "code",
   "execution_count": 9,
   "metadata": {},
   "outputs": [
    {
     "data": {
      "text/plain": [
       "0.09005455249867977"
      ]
     },
     "execution_count": 9,
     "metadata": {},
     "output_type": "execute_result"
    }
   ],
   "source": [
    "A = rand(6)\n",
    "A[begin]        # get first element\n",
    "A[end]          # get last element"
   ]
  },
  {
   "attachments": {},
   "cell_type": "markdown",
   "metadata": {},
   "source": [
    "### Array slicing\n",
    "The code below will extract the odd indices in both dimensions from a 6x6 matrix, and store the results in a new 3x3 matrix."
   ]
  },
  {
   "cell_type": "code",
   "execution_count": 10,
   "metadata": {},
   "outputs": [
    {
     "data": {
      "text/plain": [
       "3×3 Matrix{Float64}:\n",
       " 0.946132  0.208676  0.115553\n",
       " 0.137664  0.928805  0.0575288\n",
       " 0.214493  0.610831  0.227796"
      ]
     },
     "execution_count": 10,
     "metadata": {},
     "output_type": "execute_result"
    }
   ],
   "source": [
    "A = rand(6,6)                   # 6×6 Matrix{Float64}\n",
    "B = A[begin:2:end,begin:2:end]  # 3×3 Matrix{Float64}\n",
    "C = A[1:2:5,1:2:5]              # Same as B"
   ]
  },
  {
   "attachments": {},
   "cell_type": "markdown",
   "metadata": {},
   "source": [
    "### Logical indexing\n",
    "Let's generate an array of random numbers and set to 0 all the elements with values below 0.5"
   ]
  },
  {
   "cell_type": "code",
   "execution_count": 11,
   "metadata": {},
   "outputs": [
    {
     "data": {
      "text/plain": [
       "6×6 Matrix{Float64}:\n",
       " 0.436595   0.240957  0.437594  0.0839144  0.272047   0.614452\n",
       " 0.339334   0.199318  0.322279  0.523422   0.636025   0.863263\n",
       " 0.249283   0.784279  0.746397  0.7071     0.738009   0.932063\n",
       " 0.554727   0.212488  0.775327  0.919292   0.514218   0.458519\n",
       " 0.739399   0.838109  0.242831  0.883338   0.0505889  0.268574\n",
       " 0.0763766  0.737541  0.832214  0.860269   0.131652   0.670013"
      ]
     },
     "metadata": {},
     "output_type": "display_data"
    },
    {
     "data": {
      "text/plain": [
       "6×6 Matrix{Float64}:\n",
       " 0.0       0.0       0.0       0.0       0.0       0.614452\n",
       " 0.0       0.0       0.0       0.523422  0.636025  0.863263\n",
       " 0.0       0.784279  0.746397  0.7071    0.738009  0.932063\n",
       " 0.554727  0.0       0.775327  0.919292  0.514218  0.0\n",
       " 0.739399  0.838109  0.0       0.883338  0.0       0.0\n",
       " 0.0       0.737541  0.832214  0.860269  0.0       0.670013"
      ]
     },
     "execution_count": 11,
     "metadata": {},
     "output_type": "execute_result"
    }
   ],
   "source": [
    "A = rand(6,6)\n",
    "display(A)\n",
    "A[A .< 0.5 ] .= 0\n",
    "A"
   ]
  },
  {
   "attachments": {},
   "cell_type": "markdown",
   "metadata": {},
   "source": [
    "### Iterating over an Array"
   ]
  },
  {
   "cell_type": "code",
   "execution_count": 12,
   "metadata": {},
   "outputs": [
    {
     "name": "stdout",
     "output_type": "stream",
     "text": [
      "i=1 A[i]=0.3207882529368362\n",
      "i=2 A[i]=0.11970464000736958\n",
      "i=3 A[i]=0.22101448554173375\n",
      "i=4 A[i]=0.21277077770653352\n",
      "i=5 A[i]=0.7911296437107195\n",
      "i=6 A[i]=0.7161449857351958\n"
     ]
    }
   ],
   "source": [
    "# Iterating over single dimensional arrays\n",
    "A = rand(6)\n",
    "for i ∈ eachindex(A)\n",
    "    println(string(\"i=$(i) A[i]=$(A[i])\"))\n",
    "end"
   ]
  },
  {
   "cell_type": "code",
   "execution_count": 13,
   "metadata": {},
   "outputs": [
    {
     "name": "stdout",
     "output_type": "stream",
     "text": [
      "i=1 j=1 A[i,j]=0.56133814303243\n",
      "i=1 j=2 A[i,j]=0.478558677953013\n",
      "i=1 j=3 A[i,j]=0.4441400767892877\n",
      "i=1 j=4 A[i,j]=0.9795257186210794\n",
      "i=1 j=5 A[i,j]=0.9356561461749268\n",
      "i=1 j=6 A[i,j]=0.7140007168347464\n",
      "i=2 j=1 A[i,j]=0.0657077108866082\n",
      "i=2 j=2 A[i,j]=0.30899033445765767\n",
      "i=2 j=3 A[i,j]=0.13572636367454016\n",
      "i=2 j=4 A[i,j]=0.4132240657697772\n",
      "i=2 j=5 A[i,j]=0.3491375758849665\n",
      "i=2 j=6 A[i,j]=0.5350750346392849\n",
      "i=3 j=1 A[i,j]=0.2501033228678403\n",
      "i=3 j=2 A[i,j]=0.20559235130682296\n",
      "i=3 j=3 A[i,j]=0.4698677424567703\n",
      "i=3 j=4 A[i,j]=0.11378459329816826\n",
      "i=3 j=5 A[i,j]=0.46111263639024735\n",
      "i=3 j=6 A[i,j]=0.5698601295488308\n",
      "i=4 j=1 A[i,j]=0.2148370887210317\n",
      "i=4 j=2 A[i,j]=0.7885830496338981\n",
      "i=4 j=3 A[i,j]=0.47842370799932254\n",
      "i=4 j=4 A[i,j]=0.2645589913954497\n",
      "i=4 j=5 A[i,j]=0.7023888107482452\n",
      "i=4 j=6 A[i,j]=0.6723700151599525\n",
      "i=5 j=1 A[i,j]=0.67761883552081\n",
      "i=5 j=2 A[i,j]=0.1055045046169486\n",
      "i=5 j=3 A[i,j]=0.21262522652172955\n",
      "i=5 j=4 A[i,j]=0.970401390099644\n",
      "i=5 j=5 A[i,j]=0.1308973387095831\n",
      "i=5 j=6 A[i,j]=0.3621000469050668\n",
      "i=6 j=1 A[i,j]=0.8806900405944373\n",
      "i=6 j=2 A[i,j]=0.11807552683209355\n",
      "i=6 j=3 A[i,j]=0.9279993900649085\n",
      "i=6 j=4 A[i,j]=0.9004293986786873\n",
      "i=6 j=5 A[i,j]=0.045078876082505936\n",
      "i=6 j=6 A[i,j]=0.6765097343638832\n"
     ]
    }
   ],
   "source": [
    "# Iterating over multi-dimensional arrays\n",
    "A = rand(6,6)\n",
    "for i ∈ 1:size(A,1), j ∈ 1:size(A,2)\n",
    "    println(string(\"i=$(i) j=$(j) A[i,j]=$(A[i,j])\"))\n",
    "end"
   ]
  },
  {
   "cell_type": "code",
   "execution_count": 14,
   "metadata": {},
   "outputs": [
    {
     "name": "stdout",
     "output_type": "stream",
     "text": [
      "i=1 j=1 A[i,j]=0.6052258348539364\n",
      "i=1 j=2 A[i,j]=0.3511937960639021\n",
      "i=1 j=3 A[i,j]=0.1868600571870469\n",
      "i=1 j=4 A[i,j]=0.7986708480117817\n",
      "i=1 j=5 A[i,j]=0.7656269986380679\n",
      "i=1 j=6 A[i,j]=0.9916138760512274\n",
      "i=2 j=1 A[i,j]=0.46622161758255076\n",
      "i=2 j=2 A[i,j]=0.5442762013505794\n",
      "i=2 j=3 A[i,j]=0.5813984269166731\n",
      "i=2 j=4 A[i,j]=0.8070608697692988\n",
      "i=2 j=5 A[i,j]=0.6817156882199886\n",
      "i=2 j=6 A[i,j]=0.6572490928829346\n",
      "i=3 j=1 A[i,j]=0.5304688661205413\n",
      "i=3 j=2 A[i,j]=0.6179662674201273\n",
      "i=3 j=3 A[i,j]=0.7633592503658323\n",
      "i=3 j=4 A[i,j]=0.5726859884365022\n",
      "i=3 j=5 A[i,j]=0.6748889454031192\n",
      "i=3 j=6 A[i,j]=0.16743357640470258\n",
      "i=4 j=1 A[i,j]=0.6008834594066866\n",
      "i=4 j=2 A[i,j]=0.007872261637169586\n",
      "i=4 j=3 A[i,j]=0.02106681854312431\n",
      "i=4 j=4 A[i,j]=0.4857937599022477\n",
      "i=4 j=5 A[i,j]=0.9229578084336201\n",
      "i=4 j=6 A[i,j]=0.741715265097302\n",
      "i=5 j=1 A[i,j]=0.2957832982015841\n",
      "i=5 j=2 A[i,j]=0.29722578482092066\n",
      "i=5 j=3 A[i,j]=0.7023291094728119\n",
      "i=5 j=4 A[i,j]=0.33722414513451127\n",
      "i=5 j=5 A[i,j]=0.9022711398546437\n",
      "i=5 j=6 A[i,j]=0.4926540777368107\n",
      "i=6 j=1 A[i,j]=0.5330091201071695\n",
      "i=6 j=2 A[i,j]=0.49944440745751784\n",
      "i=6 j=3 A[i,j]=0.10990677876763155\n",
      "i=6 j=4 A[i,j]=0.5910144964419548\n",
      "i=6 j=5 A[i,j]=0.16793898382667027\n",
      "i=6 j=6 A[i,j]=0.2977244797586912\n"
     ]
    }
   ],
   "source": [
    "# Iterating over multidimensional arrays which may not be 1-indexed\n",
    "A = rand(6,6)\n",
    "for i ∈ axes(A,1), j ∈ axes(A,2)\n",
    "    println(string(\"i=$i j=$j A[i,j]=$(A[i,j])\")) # the parentheses are needed to apply $ to all of the expression A[i,j]\n",
    "end"
   ]
  },
  {
   "attachments": {},
   "cell_type": "markdown",
   "metadata": {},
   "source": [
    "### Basic operations of multidimensional arrays (i.e. matrix multiplication, dot product)\n",
    "\n",
    "Matrices (two dimensional arrays) can be multiplied with Matlab-style syntax (* operator). A Matrix and vector can also be multiplied with the (*) operator."
   ]
  },
  {
   "cell_type": "code",
   "execution_count": 15,
   "metadata": {},
   "outputs": [
    {
     "data": {
      "text/plain": [
       "1×3 Matrix{Float64}:\n",
       " 4.0  5.0  6.0"
      ]
     },
     "execution_count": 15,
     "metadata": {},
     "output_type": "execute_result"
    }
   ],
   "source": [
    "A = [1 2 3; 1 2 4; 2 2 2]\n",
    "B = [1 2 3; 1 2 4; 2 2 2]   # A*B allowed\n",
    "v = [4.0, 5, 6]             # A*v allowed\n",
    "m1 = [4.0 5 6]              # A*m1 not allowed"
   ]
  },
  {
   "attachments": {},
   "cell_type": "markdown",
   "metadata": {},
   "source": [
    "### Element-wise multiplication\n",
    "The dot operator will broadcast the scalar multiplicaion operator on an element-wise fashion."
   ]
  },
  {
   "cell_type": "code",
   "execution_count": 16,
   "metadata": {},
   "outputs": [
    {
     "data": {
      "text/plain": [
       "3×3 Matrix{Int64}:\n",
       " 1  4   9\n",
       " 1  4  16\n",
       " 4  4   4"
      ]
     },
     "execution_count": 16,
     "metadata": {},
     "output_type": "execute_result"
    }
   ],
   "source": [
    "A.*B"
   ]
  },
  {
   "attachments": {},
   "cell_type": "markdown",
   "metadata": {},
   "source": [
    "### Dot product"
   ]
  },
  {
   "cell_type": "code",
   "execution_count": 17,
   "metadata": {},
   "outputs": [
    {
     "data": {
      "text/plain": [
       "249.73431007959454"
      ]
     },
     "execution_count": 17,
     "metadata": {},
     "output_type": "execute_result"
    }
   ],
   "source": [
    "v = rand(1000)\n",
    "w = rand(1000)\n",
    "z = dot(v,w)\n",
    "z = v'w     # Typical linear algebra notation\n",
    "# I guess ' is transpose?"
   ]
  },
  {
   "attachments": {},
   "cell_type": "markdown",
   "metadata": {},
   "source": [
    "### Backslash operator\n",
    "Like in Matlab, this is a built-in operator to solve matrices. For square matrices, it will try to solve the linear system. For rectangular matrices, it will see the least squares solution. (WHAT DOES THAT MEAN?)\n",
    "\n",
    "One GOTCHA you may encounter is that, since 1xN matrices are not the same as N-element vectors, we have to be careful and always employ vectors in the right-hand side of an equation."
   ]
  },
  {
   "cell_type": "code",
   "execution_count": 18,
   "metadata": {},
   "outputs": [
    {
     "data": {
      "text/plain": [
       "3-element Vector{Float64}:\n",
       "  3.0\n",
       " -1.0\n",
       "  1.0"
      ]
     },
     "execution_count": 18,
     "metadata": {},
     "output_type": "execute_result"
    }
   ],
   "source": [
    "b1 = [4.0, 5, 6]        # 3-element Vector{Float64}\n",
    "b2 = [4.0; 5; 6]        # 3-element Vector{Float64}\n",
    "m1 = [4.0 5 6]          # 1x3 Matrix{Float64}\n",
    "\n",
    "x=A\\b1                  # Solves A*x=b\n",
    "x=A\\b2                  # Solves A*x=b\n",
    "#x=A\\m1                  # Error!!"
   ]
  },
  {
   "attachments": {},
   "cell_type": "markdown",
   "metadata": {},
   "source": [
    "### Resizing and concatenating arrays\n",
    "Let's start with default dynamic array operations in Julia. By default, arrays in Julia are Dynamic (e.g. growable, resizable) unless defined otherwise."
   ]
  },
  {
   "cell_type": "code",
   "execution_count": 19,
   "metadata": {},
   "outputs": [
    {
     "data": {
      "text/plain": [
       "3.0"
      ]
     },
     "execution_count": 19,
     "metadata": {},
     "output_type": "execute_result"
    }
   ],
   "source": [
    "# Resizing 1D arrays with Push and Pop\n",
    "A = Float64[]       # Equivalent to A=Array{Float64}(undef, 0)\n",
    "push!(A,4)          # Adds the number 4 at the end of the array\n",
    "push!(A,3)          # Adds the number 3 at the end of the array\n",
    "v = pop!(A)         # Returns 3 and removes it from A"
   ]
  },
  {
   "cell_type": "code",
   "execution_count": 20,
   "metadata": {},
   "outputs": [
    {
     "data": {
      "text/plain": [
       "5.0"
      ]
     },
     "execution_count": 20,
     "metadata": {},
     "output_type": "execute_result"
    }
   ],
   "source": [
    "pushfirst!(A, 5)\n",
    "A\n",
    "v = popfirst!(A)"
   ]
  },
  {
   "cell_type": "code",
   "execution_count": 21,
   "metadata": {},
   "outputs": [
    {
     "name": "stdout",
     "output_type": "stream",
     "text": [
      "4.0\n"
     ]
    },
    {
     "data": {
      "text/plain": [
       "1-element Vector{Float64}:\n",
       " 5.0"
      ]
     },
     "execution_count": 21,
     "metadata": {},
     "output_type": "execute_result"
    }
   ],
   "source": [
    "A = Float64[]       # Equivalent to A=Array{Float64}(undef, 0)\n",
    "push!(A,4)\n",
    "pushfirst!(A, 5)\n",
    "v = splice!(A, 2)\n",
    "println(v)\n",
    "A"
   ]
  },
  {
   "cell_type": "code",
   "execution_count": 22,
   "metadata": {},
   "outputs": [
    {
     "data": {
      "text/plain": [
       "1-element Vector{Float64}:\n",
       " 5.0"
      ]
     },
     "execution_count": 22,
     "metadata": {},
     "output_type": "execute_result"
    }
   ],
   "source": [
    "A = Float64[]       # Equivalent to A=Array{Float64}(undef, 0)\n",
    "push!(A,4)\n",
    "pushfirst!(A, 5)\n",
    "deleteat!(A, 2)\n",
    "A"
   ]
  },
  {
   "attachments": {},
   "cell_type": "markdown",
   "metadata": {},
   "source": [
    "### Multi-dimensional Array Concatenation"
   ]
  },
  {
   "cell_type": "code",
   "execution_count": 23,
   "metadata": {},
   "outputs": [
    {
     "data": {
      "text/plain": [
       "2×3 Matrix{Int64}:\n",
       " 4  5  6\n",
       " 6  7  8"
      ]
     },
     "metadata": {},
     "output_type": "display_data"
    },
    {
     "data": {
      "text/plain": [
       "1×6 Matrix{Int64}:\n",
       " 4  5  6  6  7  8"
      ]
     },
     "metadata": {},
     "output_type": "display_data"
    },
    {
     "data": {
      "text/plain": [
       "1×6 Matrix{Int64}:\n",
       " 4  5  6  6  7  8"
      ]
     },
     "execution_count": 23,
     "metadata": {},
     "output_type": "execute_result"
    }
   ],
   "source": [
    "# hcat and vcat work for 2D arrays and below\n",
    "A = [4 5 6]\n",
    "B = [6 7 8]\n",
    "\n",
    "M1 = vcat(A,B)\n",
    "display(M1)\n",
    "M2 = hcat(A,B)\n",
    "display(M2)\n",
    "\n",
    "# same result can be accomplished with syntax for inputting a matrix\n",
    "M1 = [A; B]\n",
    "M2 = [A B]"
   ]
  },
  {
   "cell_type": "code",
   "execution_count": 24,
   "metadata": {},
   "outputs": [
    {
     "data": {
      "text/plain": [
       "2×3 Matrix{Int64}:\n",
       " 4  5  6\n",
       " 6  7  8"
      ]
     },
     "metadata": {},
     "output_type": "display_data"
    },
    {
     "data": {
      "text/plain": [
       "1×6 Matrix{Int64}:\n",
       " 4  5  6  6  7  8"
      ]
     },
     "metadata": {},
     "output_type": "display_data"
    },
    {
     "data": {
      "text/plain": [
       "1×3×2 Array{Int64, 3}:\n",
       "[:, :, 1] =\n",
       " 4  5  6\n",
       "\n",
       "[:, :, 2] =\n",
       " 6  7  8"
      ]
     },
     "metadata": {},
     "output_type": "display_data"
    }
   ],
   "source": [
    "# The cat function can also work for n-dimensional arrays\n",
    "M1 = cat(A, B, dims=1)\n",
    "display(M1)\n",
    "M2 = cat(A, B, dims=2)\n",
    "display(M2)\n",
    "M3 = cat(A, B, dims=3)\n",
    "display(M3)"
   ]
  },
  {
   "cell_type": "code",
   "execution_count": 25,
   "metadata": {},
   "outputs": [
    {
     "data": {
      "text/plain": [
       "6-element Vector{Int64}:\n",
       " 1\n",
       " 2\n",
       " 3\n",
       " 4\n",
       " 5\n",
       " 6"
      ]
     },
     "metadata": {},
     "output_type": "display_data"
    },
    {
     "data": {
      "text/plain": [
       "3×2 Matrix{Int64}:\n",
       " 1  4\n",
       " 2  5\n",
       " 3  6"
      ]
     },
     "metadata": {},
     "output_type": "display_data"
    },
    {
     "data": {
      "text/plain": [
       "2-element Vector{Vector{Int64}}:\n",
       " [1, 2, 3]\n",
       " [4, 5, 6]"
      ]
     },
     "metadata": {},
     "output_type": "display_data"
    },
    {
     "data": {
      "text/plain": [
       "2×3 Matrix{Int64}:\n",
       " 1  2  3\n",
       " 4  5  6"
      ]
     },
     "metadata": {},
     "output_type": "display_data"
    },
    {
     "data": {
      "text/plain": [
       "3×2 Matrix{Int64}:\n",
       " 1  4\n",
       " 2  5\n",
       " 3  6"
      ]
     },
     "metadata": {},
     "output_type": "display_data"
    }
   ],
   "source": [
    "# Concatenating vectors (different from 1xn matrices!)\n",
    "a = [1, 2, 3]\n",
    "b = [4, 5, 6]\n",
    "# hcat and vcat have the opposite effect from before\n",
    "v1 = vcat(a, b)\n",
    "display(v1)\n",
    "\n",
    "v2 = hcat(a,b)\n",
    "display(v2)\n",
    "\n",
    "# equivalently\n",
    "v1 = [a b] # spaces equivalent to hcat\n",
    "v2 = [a; b] # semicolons equivalent to vcat\n",
    "\n",
    "# vector of vectors (concatenate using commas)\n",
    "v3 = [a,b]\n",
    "display(v3)\n",
    "\n",
    "# stack function will concatenate a vector of vectors along a specified dimensional\n",
    "s1 = stack([a,b], dims=1) # results in 2x3 matrix\n",
    "display(s1)\n",
    "s2 = stack([a,b], dims=2) # results in 3x2 matrix\n",
    "display(s2)"
   ]
  },
  {
   "attachments": {},
   "cell_type": "markdown",
   "metadata": {},
   "source": [
    "## Functions\n",
    "Since Julia is JIT compiled, you need to wrap your code inside a function in order to get it compiled. Thus, performance-critical sections of code should always be written inside functions."
   ]
  },
  {
   "cell_type": "code",
   "execution_count": 26,
   "metadata": {},
   "outputs": [
    {
     "ename": "LoadError",
     "evalue": "MethodError: no method matching sum_zeta(::Int64)\n\n\u001b[0mClosest candidates are:\n\u001b[0m  sum_zeta(::Any, \u001b[91m::Any\u001b[39m)\n\u001b[0m\u001b[90m   @\u001b[39m \u001b[35mMain\u001b[39m \u001b[90m\u001b[4mIn[26]:2\u001b[24m\u001b[39m\n",
     "output_type": "error",
     "traceback": [
      "MethodError: no method matching sum_zeta(::Int64)\n\n\u001b[0mClosest candidates are:\n\u001b[0m  sum_zeta(::Any, \u001b[91m::Any\u001b[39m)\n\u001b[0m\u001b[90m   @\u001b[39m \u001b[35mMain\u001b[39m \u001b[90m\u001b[4mIn[26]:2\u001b[24m\u001b[39m\n",
      "",
      "Stacktrace:",
      " [1] top-level scope",
      "   @ In[26]:4"
     ]
    }
   ],
   "source": [
    "# Single line function definition\n",
    "sum_zeta(s,nterms) = sum(1/n^s for n=1:nterms)\n",
    "\n",
    "println(sum_zeta(2))\n",
    "\n",
    "# Multi-line function definition\n",
    "function sum_zeta(s,nterms)\n",
    "    x = 0\n",
    "    for n in 1:nterms\n",
    "        x = x + (1/n)^s\n",
    "    end\n",
    "    return x\n",
    "end\n",
    "\n",
    "println(sum_zeta(2, 10000)) # Notice slightly lower precision"
   ]
  },
  {
   "attachments": {},
   "cell_type": "markdown",
   "metadata": {},
   "source": [
    "### Keyword arguments and optional arguments\n",
    "Keyword arguments are identified by name rather than by position. Their syntax is very similar to optional arguments, with the only difference being that they are placed after a semicolon in the function definition. Notice there can be a slight difference in the precision of your answers depending on whether you enter the value `10000` or `1e6`"
   ]
  },
  {
   "cell_type": "code",
   "execution_count": null,
   "metadata": {},
   "outputs": [
    {
     "name": "stdout",
     "output_type": "stream",
     "text": [
      "1.6448340718480652\n",
      "1.6448340718480652\n",
      "1.6448340718480652\n",
      "1.6448340718480652\n",
      "1.64493306684877\n"
     ]
    }
   ],
   "source": [
    "sum_zeta1(s, nterms=10000) = sum(1/n^s for n=1:nterms) # nterms optional argument\n",
    "sum_zeta2(s; nterms=10000) = sum(1/n^s for n=1:nterms) # nterms keyword argument\n",
    "\n",
    "println(sum_zeta1(2))\n",
    "println(sum_zeta1(2, 10000)) # same as above\n",
    "#println(sum_zeta1(2, nterms=10000)) # error! not a keyword\n",
    "\n",
    "println(sum_zeta2(2))\n",
    "#println(sum_zeta2(2, 10000)) # error! need a keyword\n",
    "println(sum_zeta2(2, nterms=10000))\n",
    "println(sum_zeta2(2, nterms=1e6)) # notice difference in precision"
   ]
  },
  {
   "attachments": {},
   "cell_type": "markdown",
   "metadata": {},
   "source": [
    "### Functions with multiple outputs\n",
    "When you have a function that returns multiple outputs, what is happening under the hood is that the function is returning a `tuple` and the `tuple` is being destructured into two variables. We can also call for a single output and destructure is ourselves (see `shape` below). Note that tuples are immutable structures, so we won't be able to modify the values of `shape`, but we can modify the values of `a` and `c`."
   ]
  },
  {
   "cell_type": "code",
   "execution_count": null,
   "metadata": {},
   "outputs": [
    {
     "name": "stdout",
     "output_type": "stream",
     "text": [
      "7.0685834705770345\n",
      "9.42477796076938\n",
      "7.0685834705770345\n",
      "9.42477796076938\n"
     ]
    }
   ],
   "source": [
    "function circle(r)\n",
    "    area = π * r^2\n",
    "    circumference = 2π * r\n",
    "    return area, circumference\n",
    "end\n",
    "\n",
    "a1, c1 = circle(1.5) # save outputs destructured as variables\n",
    "println(a1, \"\\n\", c1)\n",
    "\n",
    "shape = circle(1.5) # save tuple of outputs, destructure them ourselves\n",
    "a2, c2 = shape\n",
    "println(a2, \"\\n\", c2)\n"
   ]
  },
  {
   "attachments": {},
   "cell_type": "markdown",
   "metadata": {},
   "source": [
    "### Functions which modify their input (! notation, aka bang! notation)\n",
    "It is convention to append an exclamation mark to names of functions that modify their arguments. Note that not every type of variable can be modified by a function when passed as an input: the variable has to be *mutable*. `Arrays` are mutable by default. `Tuples` are not. If you pass an immutable variable type to `x`, the value of the variable `x` will change only inside the function `add_one`, but the process won't affect the value of `x` outside of the function.\n",
    "\n",
    "Note that bang! notation is also used in the `Plots.jl` visualization library to add more data to an existing `plot` object."
   ]
  },
  {
   "cell_type": "code",
   "execution_count": null,
   "metadata": {},
   "outputs": [],
   "source": [
    "function add_one!(x)\n",
    "    x .= x .+ 1\n",
    "end\n",
    "\n",
    "x = [1,2,3]\n",
    "add_one!(x); # x is now [2,3,4]"
   ]
  },
  {
   "attachments": {},
   "cell_type": "markdown",
   "metadata": {},
   "source": [
    "### Anonymous functions\n",
    "Sometimes we don't need to assign a name to a function. For instance, if we just need to quickly define a function in order to pass it as an argument to another function, then anonymity can come in handy. \n",
    "\n",
    "Suppose we are using the following function `secant` which finds the root of a given function `f` using the secant method. This can be applied to any function `f`. So, we could either define a function for `f` and pass it as an argument, OR we could use anonymous function as shorthand. (That's the `x -> x^2 - x - 1`) below."
   ]
  },
  {
   "cell_type": "code",
   "execution_count": null,
   "metadata": {},
   "outputs": [
    {
     "data": {
      "text/plain": [
       "1.6180339887498947"
      ]
     },
     "execution_count": 65,
     "metadata": {},
     "output_type": "execute_result"
    }
   ],
   "source": [
    "function secant(f,a,b,rtol,maxIters)\n",
    "    iter = 0\n",
    "    while abs(b-a) > rtol*abs(b) && iter < maxIters\n",
    "        c,a = a,b\n",
    "        b = b + (b-c)/(f(c)/f(b)-1)\n",
    "        iter = iter + 1\n",
    "    end\n",
    "    return b\n",
    "end\n",
    "\n",
    "φ = secant( x-> x^2 - x - 1, 1, 2, 1e-15, 10 )"
   ]
  },
  {
   "cell_type": "code",
   "execution_count": null,
   "metadata": {},
   "outputs": [],
   "source": []
  }
 ],
 "metadata": {
  "kernelspec": {
   "display_name": "Julia 1.10.5",
   "language": "julia",
   "name": "julia-1.10"
  },
  "language_info": {
   "file_extension": ".jl",
   "mimetype": "application/julia",
   "name": "julia",
   "version": "1.10.5"
  },
  "orig_nbformat": 4
 },
 "nbformat": 4,
 "nbformat_minor": 2
}
