{
 "cells": [
  {
   "cell_type": "code",
   "execution_count": 14,
   "id": "6f1bd317-2e19-4cfc-845b-143047b38367",
   "metadata": {},
   "outputs": [
    {
     "data": {
      "text/latex": [
       "$$ \\begin{align}\n",
       "\\frac{\\mathrm{d} c\\_{1,2}\\left( t \\right)}{\\mathrm{d}t} &=  - c\\_{1,2}\\left( t \\right) e^{ - c\\_{1,2}\\left( t \\right) \\beta_{1}} + d_{1} p\\_{1}\\left( t \\right) e^{ - c\\_{1,2}\\left( t \\right) \\alpha_{1} \\beta_{1}} \\\\\n",
       "\\frac{\\mathrm{d} c\\_{2,1}\\left( t \\right)}{\\mathrm{d}t} &=  - c\\_{2,1}\\left( t \\right) e^{ - c\\_{2,1}\\left( t \\right) \\beta_{1}} + d_{1} p\\_{2}\\left( t \\right) e^{ - c\\_{2,1}\\left( t \\right) \\alpha_{1} \\beta_{1}} \\\\\n",
       "\\frac{\\mathrm{d} p\\_{1}\\left( t \\right)}{\\mathrm{d}t} &= c\\_{2,1}\\left( t \\right) e^{ - c\\_{2,1}\\left( t \\right) \\beta_{1}} - d_{1} p\\_{1}\\left( t \\right) e^{ - c\\_{1,2}\\left( t \\right) \\alpha_{1} \\beta_{1}} \\\\\n",
       "\\frac{\\mathrm{d} p\\_{2}\\left( t \\right)}{\\mathrm{d}t} &= c\\_{1,2}\\left( t \\right) e^{ - c\\_{1,2}\\left( t \\right) \\beta_{1}} - d_{1} p\\_{2}\\left( t \\right) e^{ - c\\_{2,1}\\left( t \\right) \\alpha_{1} \\beta_{1}}\n",
       "\\end{align}\n",
       " $$"
      ],
      "text/plain": [
       "\u001b[0m\u001b[1mModel model:\u001b[22m\n",
       "\u001b[0m\u001b[1mEquations (4):\u001b[22m\n",
       "  4 standard: see equations(model)\n",
       "\u001b[0m\u001b[1mUnknowns (4):\u001b[22m see unknowns(model)\n",
       "  (c(t))[1, 2]\n",
       "  (c(t))[2, 1]\n",
       "  (p(t))[1]\n",
       "  (p(t))[2]\n",
       "\u001b[0m\u001b[1mParameters (3):\u001b[22m see parameters(model)\n",
       "  α\n",
       "  β\n",
       "  d"
      ]
     },
     "metadata": {},
     "output_type": "display_data"
    }
   ],
   "source": [
    "using ModelingToolkit, DifferentialEquations, Plots, LinearAlgebra\n",
    "using ModelingToolkit: t_nounits as t, D_nounits as D\n",
    "\n",
    "#An attempt to use vecorized representation for the standard Lotka-Volterra model.\n",
    "\n",
    "#First build the symbolic model\n",
    "\n",
    "#Set the number of patches\n",
    "Np=2\n",
    "#Set the number of corridors\n",
    "Nc=1\n",
    "\n",
    "#patches\n",
    "@variables p(t)[1:Np]\n",
    "#corridors\n",
    "@variables c(t)[1:Np,1:Np] #note, this is only for 1 corridor and will have to be modifed.\n",
    "\n",
    "#=\n",
    "Note, think about generalizing c(t) for multiple corridors... i.e. c(t)[1:Nc,1:Np,1:Np]\n",
    "I have not tested this, but this shold make a Nc x Np x Np array.\n",
    "=#\n",
    "\n",
    "\n",
    "@parameters α[1:Nc] \n",
    "@parameters β[1:Nc] \n",
    "@parameters d[1:Nc]\n",
    "\n",
    "#=\n",
    "\n",
    "Note, think about generalizing the above for directions, i.e. add more dimensions\n",
    "to the array where, again, there will be lots of zeros...\n",
    "\n",
    "=#\n",
    "\n",
    "#=\n",
    "define a general flux at a node connection (between a patch and a corridor),\n",
    "that is, the flux entering and exiting corridors. All fluxes are defined for \n",
    "corridors, not patches.  Net Fluxes for patches are then summed over all corridors\n",
    "connected to a patch, i.e. sum in - sum out. This should allow us to write the patch \n",
    "fluxes and corridor fluxes in a very systematic way, and we should end up with \n",
    "something like\n",
    "\n",
    "D.(p) = NPF\n",
    "D.(c) = NCF\n",
    "\n",
    "where NPF and NCF are the net patch and corridor fluxes appropriately defined.\n",
    "\n",
    "=#\n",
    "\n",
    "EnFlx(p,c,d,α,β) = d * exp(-α * β * c) * p\n",
    "ExFlx(c,β) = exp(-β*c)*c\n",
    "\n",
    "#=\n",
    "so, for example, the fluxes from p1 and p2 into corridor 1 would be\n",
    "\n",
    "EnFlx(p[1],c[1,2],d[1],α[1],β[1])\n",
    "EnFlx(p[2],c[2,1],d₂,α₂,β₂)\n",
    "\n",
    "etcetera\n",
    "\n",
    "=#\n",
    "\n",
    "#define the corridor flux matrix\n",
    "\n",
    "eqs = [\n",
    "    D.(p[1]) ~ ExFlx(c[2,1],β[1]) - EnFlx(p[1],c[1,2],d[1],α[1],β[1]),\n",
    "    D.(p[2]) ~ ExFlx(c[1,2],β[1]) - EnFlx(p[2],c[2,1],d[1],α[1],β[1]),\n",
    "    D.(c[1,2]) ~ - ExFlx(c[1,2],β[1]) + EnFlx(p[1],c[1,2],d[1],α[1],β[1]),\n",
    "    D.(c[2,1]) ~ - ExFlx(c[2,1],β[1]) + EnFlx(p[2],c[2,1],d[1],α[1],β[1]) \n",
    "]\n",
    "\n",
    "#define equations\n",
    "\n",
    "#eqs = [\n",
    " #   D.(p) ~ collect(c*p)\n",
    "  #      ]\n",
    "\n",
    "#build model symbolically\n",
    "@mtkbuild model = ODESystem(eqs, t)\n"
   ]
  },
  {
   "cell_type": "markdown",
   "id": "692015e1",
   "metadata": {},
   "source": [
    "OK, so this works beautifully, and if you stare at it for a while you should be able to generalize. But first, create the numerical problem and solve it... Notice that it didn't complain about us not using c[1,1] and c[2,2]. But when we generalize, these will all be there, but set to zero.  Maybe the best way to proceed is to just have this file with subseqent cells as incremental generalizations."
   ]
  }
 ],
 "metadata": {
  "kernelspec": {
   "display_name": "Julia 1.11.5",
   "language": "julia",
   "name": "julia-1.11"
  },
  "language_info": {
   "file_extension": ".jl",
   "mimetype": "application/julia",
   "name": "julia",
   "version": "1.11.5"
  }
 },
 "nbformat": 4,
 "nbformat_minor": 5
}
